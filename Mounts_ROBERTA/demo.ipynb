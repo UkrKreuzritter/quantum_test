{
 "cells": [
  {
   "cell_type": "code",
   "execution_count": 8,
   "metadata": {},
   "outputs": [],
   "source": [
    "import pandas as pd\n",
    "from transformers import pipeline, RobertaForTokenClassification, RobertaTokenizerFast"
   ]
  },
  {
   "cell_type": "code",
   "execution_count": 29,
   "metadata": {},
   "outputs": [],
   "source": [
    "def read_words_from_file(file_path):\n",
    "    with open(file_path, 'r') as file:\n",
    "        return set(line.strip() for line in file)\n",
    "\n",
    "def delete_all_stop_words(text, stop_words):\n",
    "    # Keep only alphanumeric characters and split by spaces\n",
    "    words = ''.join(char if char.isalnum() or char.isspace() else ' ' for char in text).split()\n",
    "    return [word for word in words if word.lower() not in stop_words]\n",
    "\n",
    "def process_texts_through_pipeline(texts, pipeline):\n",
    "    stop_words = read_words_from_file(\"stop_words.txt\")\n",
    "    \n",
    "    for i, text in enumerate(texts):\n",
    "        print(f\"Text {i+1}:\")\n",
    "        tokens_output = pipeline(delete_all_stop_words(text, stop_words))\n",
    "        \n",
    "        for token in tokens_output:\n",
    "            label = \"Non-mountain\" if token[0]['entity_group'] != 'LABEL_1' else \"Mountain\"\n",
    "            print(f\"{token[0]['word']}, class: {label}\")\n",
    "        print(\"\")"
   ]
  },
  {
   "cell_type": "code",
   "execution_count": 13,
   "metadata": {},
   "outputs": [
    {
     "data": {
      "application/vnd.jupyter.widget-view+json": {
       "model_id": "5629451c3f0b4b1e9221862866cf44d9",
       "version_major": 2,
       "version_minor": 0
      },
      "text/plain": [
       "config.json:   0%|          | 0.00/710 [00:00<?, ?B/s]"
      ]
     },
     "metadata": {},
     "output_type": "display_data"
    },
    {
     "name": "stderr",
     "output_type": "stream",
     "text": [
      "c:\\Users\\HP\\AppData\\Local\\Programs\\Python\\Python310\\lib\\site-packages\\huggingface_hub\\file_download.py:140: UserWarning: `huggingface_hub` cache-system uses symlinks by default to efficiently store duplicated files but your machine does not support them in C:\\Users\\HP\\.cache\\huggingface\\hub\\models--UkrKreuzritter--NER_mountain. Caching files will still work but in a degraded version that might require more space on your disk. This warning can be disabled by setting the `HF_HUB_DISABLE_SYMLINKS_WARNING` environment variable. For more details, see https://huggingface.co/docs/huggingface_hub/how-to-cache#limitations.\n",
      "To support symlinks on Windows, you either need to activate Developer Mode or to run Python as an administrator. In order to activate developer mode, see this article: https://docs.microsoft.com/en-us/windows/apps/get-started/enable-your-device-for-development\n",
      "  warnings.warn(message)\n"
     ]
    },
    {
     "data": {
      "application/vnd.jupyter.widget-view+json": {
       "model_id": "4ea6d03d9e3143b582921829da8a5e44",
       "version_major": 2,
       "version_minor": 0
      },
      "text/plain": [
       "model.safetensors:   0%|          | 0.00/496M [00:00<?, ?B/s]"
      ]
     },
     "metadata": {},
     "output_type": "display_data"
    },
    {
     "data": {
      "application/vnd.jupyter.widget-view+json": {
       "model_id": "39e95d0b2d1440229b971daa7c8589f1",
       "version_major": 2,
       "version_minor": 0
      },
      "text/plain": [
       "tokenizer_config.json:   0%|          | 0.00/1.30k [00:00<?, ?B/s]"
      ]
     },
     "metadata": {},
     "output_type": "display_data"
    },
    {
     "data": {
      "application/vnd.jupyter.widget-view+json": {
       "model_id": "1e2cfa4efe794f89b98e0e1caa9ae401",
       "version_major": 2,
       "version_minor": 0
      },
      "text/plain": [
       "vocab.json:   0%|          | 0.00/798k [00:00<?, ?B/s]"
      ]
     },
     "metadata": {},
     "output_type": "display_data"
    },
    {
     "data": {
      "application/vnd.jupyter.widget-view+json": {
       "model_id": "2f42d251fbf4469f8a19b1a0e39f1984",
       "version_major": 2,
       "version_minor": 0
      },
      "text/plain": [
       "merges.txt:   0%|          | 0.00/456k [00:00<?, ?B/s]"
      ]
     },
     "metadata": {},
     "output_type": "display_data"
    },
    {
     "data": {
      "application/vnd.jupyter.widget-view+json": {
       "model_id": "541c8906dca84ad390de6dbae6ea5a2c",
       "version_major": 2,
       "version_minor": 0
      },
      "text/plain": [
       "tokenizer.json:   0%|          | 0.00/3.56M [00:00<?, ?B/s]"
      ]
     },
     "metadata": {},
     "output_type": "display_data"
    },
    {
     "data": {
      "application/vnd.jupyter.widget-view+json": {
       "model_id": "fd8992f704cf4f1da2ba31e94da1381d",
       "version_major": 2,
       "version_minor": 0
      },
      "text/plain": [
       "special_tokens_map.json:   0%|          | 0.00/295 [00:00<?, ?B/s]"
      ]
     },
     "metadata": {},
     "output_type": "display_data"
    },
    {
     "name": "stderr",
     "output_type": "stream",
     "text": [
      "Device set to use cuda:0\n"
     ]
    }
   ],
   "source": [
    "model = RobertaForTokenClassification.from_pretrained(\"UkrKreuzritter/NER_mountain\")\n",
    "tokenizer = RobertaTokenizerFast.from_pretrained(\"UkrKreuzritter/NER_mountain\")\n",
    "ner_pipeline = pipeline(\"ner\", model=model, tokenizer=tokenizer,aggregation_strategy=\"simple\")"
   ]
  },
  {
   "cell_type": "code",
   "execution_count": 35,
   "metadata": {},
   "outputs": [],
   "source": [
    "texts = [\n",
    "    \"The Rocky Plains lie near the Appalachian Mountains.\",\n",
    "    \"Climbing the corporate ladder was her Mount Everest.\",\n",
    "    \"He visited the Grand Canyon and hiked the Alps.\",\n",
    "    \"The Andes, Himalayas, and Rockies form vast mountain ranges.\",\n",
    "    \"Mount Fuji near Tokyo symbolizes Japan.\",\n",
    "    \"The Carpathians sustain diverse life.\",\n",
    "    \"Mount Rainier looms over the valley, hidden by clouds.\",\n",
    "    \"His determination mirrored the steadfast Rockies.\",\n",
    "    \"I read about mountains on book a time ago\",\n",
    "    \"The Great Plains lie between the Rockies and the Appalachian Mountains.\",\n",
    "    \"I like Mount Hoverla!!!!!\",\n",
    "    \"You live in US so long, have you ever visited Rushmore?\"\n",
    "]"
   ]
  },
  {
   "cell_type": "code",
   "execution_count": 36,
   "metadata": {},
   "outputs": [
    {
     "name": "stdout",
     "output_type": "stream",
     "text": [
      "Text 1:\n",
      " Rocky, class: Non-mountain\n",
      " Plains, class: Mountain\n",
      " lie, class: Non-mountain\n",
      " near, class: Non-mountain\n",
      " Appalachian, class: Mountain\n",
      " Mountains, class: Mountain\n",
      "\n",
      "Text 2:\n",
      " Climbing, class: Non-mountain\n",
      " corporate, class: Non-mountain\n",
      " ladder, class: Non-mountain\n",
      " Mount, class: Mountain\n",
      " Everest, class: Mountain\n",
      "\n",
      "Text 3:\n",
      " visited, class: Non-mountain\n",
      " Grand, class: Non-mountain\n",
      " Canyon, class: Mountain\n",
      " hiked, class: Non-mountain\n",
      " Alps, class: Mountain\n",
      "\n",
      "Text 4:\n",
      " Andes, class: Mountain\n",
      " Himalay, class: Mountain\n",
      " Rockies, class: Mountain\n",
      " form, class: Non-mountain\n",
      " vast, class: Non-mountain\n",
      " mountain, class: Non-mountain\n",
      " ranges, class: Non-mountain\n",
      "\n",
      "Text 5:\n",
      " Mount, class: Mountain\n",
      " Fuji, class: Non-mountain\n",
      " near, class: Non-mountain\n",
      " Tokyo, class: Non-mountain\n",
      " symbolizes, class: Non-mountain\n",
      " Japan, class: Non-mountain\n",
      "\n",
      "Text 6:\n",
      " Carpathians, class: Mountain\n",
      " sustain, class: Non-mountain\n",
      " diverse, class: Non-mountain\n",
      " life, class: Non-mountain\n",
      "\n",
      "Text 7:\n",
      " Mount, class: Mountain\n",
      " Rainier, class: Non-mountain\n",
      " looms, class: Non-mountain\n",
      " valley, class: Non-mountain\n",
      " hidden, class: Non-mountain\n",
      " clouds, class: Non-mountain\n",
      "\n",
      "Text 8:\n",
      " determination, class: Non-mountain\n",
      " mirrored, class: Non-mountain\n",
      " steadfast, class: Non-mountain\n",
      " Rockies, class: Mountain\n",
      "\n",
      "Text 9:\n",
      " read, class: Non-mountain\n",
      " mountains, class: Non-mountain\n",
      " book, class: Non-mountain\n",
      " time, class: Non-mountain\n",
      " ago, class: Non-mountain\n",
      "\n",
      "Text 10:\n",
      " Great, class: Non-mountain\n",
      " Plains, class: Mountain\n",
      " lie, class: Non-mountain\n",
      " Rockies, class: Mountain\n",
      " Appalachian, class: Mountain\n",
      " Mountains, class: Mountain\n",
      "\n",
      "Text 11:\n",
      " like, class: Non-mountain\n",
      " Mount, class: Mountain\n",
      " Hoverla, class: Non-mountain\n",
      "\n",
      "Text 12:\n",
      " live, class: Non-mountain\n",
      " long, class: Non-mountain\n",
      " visited, class: Non-mountain\n",
      " Rushmore, class: Mountain\n",
      "\n"
     ]
    }
   ],
   "source": [
    "process_texts_through_pipeline(texts, ner_pipeline)"
   ]
  },
  {
   "cell_type": "markdown",
   "metadata": {},
   "source": [
    "# <center> Conclusions <center>\n",
    "\n",
    "## Pros:\n",
    "1. Model effectively identifies widely recognized mountain names.\n",
    "2. Correctly ignores generic mentions of mountains (e.g., \"I read about mountains\" is not classified as a mountain name).\n",
    "\n",
    "## Cons:\n",
    "1. Model struggles with local or lesser-known mountain names (e.g., Hoverla)."
   ]
  }
 ],
 "metadata": {
  "kernelspec": {
   "display_name": "Python 3",
   "language": "python",
   "name": "python3"
  },
  "language_info": {
   "codemirror_mode": {
    "name": "ipython",
    "version": 3
   },
   "file_extension": ".py",
   "mimetype": "text/x-python",
   "name": "python",
   "nbconvert_exporter": "python",
   "pygments_lexer": "ipython3",
   "version": "3.10.5"
  }
 },
 "nbformat": 4,
 "nbformat_minor": 2
}
