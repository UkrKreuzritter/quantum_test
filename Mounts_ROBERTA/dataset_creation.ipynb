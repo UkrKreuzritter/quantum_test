{
 "cells": [
  {
   "cell_type": "code",
   "execution_count": 3,
   "metadata": {},
   "outputs": [],
   "source": [
    "import pandas as pd"
   ]
  },
  {
   "cell_type": "code",
   "execution_count": 12,
   "metadata": {},
   "outputs": [],
   "source": [
    "# I use stop words from spacy library. It's not neccessary, suppose, to import whole library, so I created .txt file, which contains stop words from spacy library + some additional chars\n",
    "def read_words_from_file(file_path):\n",
    "    words = set()\n",
    "    with open(file_path, 'r') as file:\n",
    "        for line in file:\n",
    "            word = line.strip()\n",
    "            words.add(word)\n",
    "    return words\n",
    "stop_words = read_words_from_file(\"stop_words.txt\")"
   ]
  },
  {
   "cell_type": "code",
   "execution_count": 4,
   "metadata": {},
   "outputs": [],
   "source": [
    "def preprocess_df(df): # excludes from sentences stop words\n",
    "    new_df = pd.DataFrame(columns=df.columns)\n",
    "    for i in range(len(df)):\n",
    "        new_df.loc[i] = [\"\", [], []]\n",
    "        for j, word in enumerate(df[\"tokens\"].loc[i]):\n",
    "            if word.lower() not in stop_words:\n",
    "                new_df.loc[i, \"tokens\"].append(word)\n",
    "                if df.loc[i, \"labels\"][j]!=0:\n",
    "                    new_df.loc[i, \"labels\"].append(1)\n",
    "                else:\n",
    "                    new_df.loc[i, \"labels\"].append(0)\n",
    "        new_df.loc[i, \"sentence\"] = \" \".join(new_df.loc[i, \"tokens\"])\n",
    "    return new_df\n",
    "def create_dataset(type=\"train\", preprocess = False): # Creates dataset\n",
    "    splits = {'train': 'data/train-00000-of-00001.parquet', 'val': 'data/val-00000-of-00001.parquet', 'test': 'data/test-00000-of-00001.parquet'}\n",
    "    df = pd.read_parquet(\"hf://datasets/telord/mountains-ner-dataset/\" + splits[type])\n",
    "    if preprocess:\n",
    "      return preprocess_df(df)\n",
    "    return df"
   ]
  },
  {
   "cell_type": "code",
   "execution_count": 5,
   "metadata": {},
   "outputs": [],
   "source": [
    "train_df = create_dataset(\"train\", True) # here is train, validation and test datasets\n",
    "val_df = create_dataset(\"val\", True)\n",
    "test_df = create_dataset(\"train\", True)"
   ]
  },
  {
   "cell_type": "code",
   "execution_count": null,
   "metadata": {},
   "outputs": [],
   "source": [
    "train_df.to_csv(\"./datasets/train_processed.csv\") # save files in csv format\n",
    "val_df.to_csv(\"./datasets/val_processed.csv\")\n",
    "test_df.to_csv(\"./datasets/test_processed.csv\")"
   ]
  }
 ],
 "metadata": {
  "kernelspec": {
   "display_name": "Python 3",
   "language": "python",
   "name": "python3"
  },
  "language_info": {
   "codemirror_mode": {
    "name": "ipython",
    "version": 3
   },
   "file_extension": ".py",
   "mimetype": "text/x-python",
   "name": "python",
   "nbconvert_exporter": "python",
   "pygments_lexer": "ipython3",
   "version": "3.10.5"
  }
 },
 "nbformat": 4,
 "nbformat_minor": 2
}
